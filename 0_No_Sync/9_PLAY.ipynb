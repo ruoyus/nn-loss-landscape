{
 "cells": [
  {
   "cell_type": "markdown",
   "metadata": {},
   "source": [
    "# Core Features: Lines and Planes in Parameter Space\n",
    "\n",
    "This example covers the basic features of the `loss-landscapes` library, i.e. evaluating a model's loss function along lines or planes in parameter space in order to produce visualizations of the loss landscape."
   ]
  },
  {
   "cell_type": "code",
   "execution_count": 1,
   "metadata": {
    "tags": []
   },
   "outputs": [
    {
     "output_type": "stream",
     "name": "stdout",
     "text": "[1.0, 1.5, 2.0]\n"
    }
   ],
   "source": [
    "import numpy as np\n",
    "\n",
    "l1 = [2, 3, 4]\n",
    "l1 = (np.array(l1)/2).tolist()\n",
    "print(l1)"
   ]
  },
  {
   "cell_type": "code",
   "execution_count": 3,
   "metadata": {
    "tags": []
   },
   "outputs": [
    {
     "output_type": "stream",
     "name": "stdout",
     "text": "{'A': 1, 'B': 2}\n{'A': 1}\n{'A': 1, 'C': 444}\n"
    }
   ],
   "source": [
    "# Update one dictionary by another dictonary \n",
    "pretrained_dict  = { 'A': 1, 'B': 2 }\n",
    "print( pretrained_dict )  # {'A': 1, 'B': 2}\n",
    "model_dict  = { 'A': 2222, 'C': 444 }\n",
    "pretrained_dict = {k: v for k, v in pretrained_dict.items() if k in model_dict}\n",
    "print( pretrained_dict ) # {'A': 1}\n",
    "\n",
    "model_dict.update(pretrained_dict)\n",
    "print( model_dict ) # {'A': 1, 'C': 444}\n"
   ]
  },
  {
   "cell_type": "code",
   "execution_count": 4,
   "metadata": {},
   "outputs": [
    {
     "output_type": "error",
     "ename": "NameError",
     "evalue": "name 'Parameter' is not defined",
     "traceback": [
      "\u001b[0;31m---------------------------------------------------------------------------\u001b[0m",
      "\u001b[0;31mNameError\u001b[0m                                 Traceback (most recent call last)",
      "\u001b[0;32m<ipython-input-4-90d561f3cd1c>\u001b[0m in \u001b[0;36m<module>\u001b[0;34m\u001b[0m\n\u001b[1;32m      4\u001b[0m     \u001b[0;32mif\u001b[0m \u001b[0mname\u001b[0m \u001b[0;32mnot\u001b[0m \u001b[0;32min\u001b[0m \u001b[0mown_state\u001b[0m\u001b[0;34m:\u001b[0m\u001b[0;34m\u001b[0m\u001b[0;34m\u001b[0m\u001b[0m\n\u001b[1;32m      5\u001b[0m             \u001b[0;32mcontinue\u001b[0m\u001b[0;34m\u001b[0m\u001b[0;34m\u001b[0m\u001b[0m\n\u001b[0;32m----> 6\u001b[0;31m     \u001b[0;32mif\u001b[0m \u001b[0misinstance\u001b[0m\u001b[0;34m(\u001b[0m\u001b[0mparam\u001b[0m\u001b[0;34m,\u001b[0m \u001b[0mParameter\u001b[0m\u001b[0;34m)\u001b[0m\u001b[0;34m:\u001b[0m\u001b[0;34m\u001b[0m\u001b[0;34m\u001b[0m\u001b[0m\n\u001b[0m\u001b[1;32m      7\u001b[0m         \u001b[0;31m# backwards compatibility for serialized parameters\u001b[0m\u001b[0;34m\u001b[0m\u001b[0;34m\u001b[0m\u001b[0;34m\u001b[0m\u001b[0m\n\u001b[1;32m      8\u001b[0m         \u001b[0mparam\u001b[0m \u001b[0;34m=\u001b[0m \u001b[0mparam\u001b[0m\u001b[0;34m.\u001b[0m\u001b[0mdata\u001b[0m\u001b[0;34m\u001b[0m\u001b[0;34m\u001b[0m\u001b[0m\n",
      "\u001b[0;31mNameError\u001b[0m: name 'Parameter' is not defined"
     ]
    }
   ],
   "source": [
    "# Update the keys of one dictionary \n",
    "own_state = pretrained_dict   #  self.state_dict()\n",
    "for name, param in model_dict.items():\n",
    "    if name not in own_state:\n",
    "            continue\n",
    "    if isinstance(param, Parameter):\n",
    "        # backwards compatibility for serialized parameters\n",
    "        param = param.data\n",
    "    own_state[name].copy_(param)"
   ]
  },
  {
   "cell_type": "code",
   "execution_count": 1,
   "metadata": {
    "tags": []
   },
   "outputs": [
    {
     "output_type": "stream",
     "name": "stdout",
     "text": "not a\nnot a\na\n"
    }
   ],
   "source": [
    "a = False\n",
    "if a:\n",
    "    print('a')\n",
    "if not a:\n",
    "    print('not a')\n",
    "\n",
    "a = 0\n",
    "if a:\n",
    "    print('a')\n",
    "if not a:\n",
    "    print('not a')\n",
    "\n",
    "a = 'False'\n",
    "if a:\n",
    "    print('a')\n",
    "if not a:\n",
    "    print('not a')"
   ]
  },
  {
   "cell_type": "markdown",
   "metadata": {},
   "source": [
    "下面，测试花括号的作用. 2020.09.09"
   ]
  },
  {
   "cell_type": "code",
   "execution_count": 9,
   "metadata": {
    "tags": []
   },
   "outputs": [
    {
     "output_type": "stream",
     "name": "stdout",
     "text": "that is great excellent \n"
    }
   ],
   "source": [
    "aa = 'great'\n",
    "bb = 'excellent'\n",
    "cc = f' that is {aa} {bb} '\n",
    "print(cc)"
   ]
  },
  {
   "cell_type": "code",
   "execution_count": 10,
   "metadata": {
    "tags": []
   },
   "outputs": [
    {
     "output_type": "stream",
     "name": "stdout",
     "text": "> 3m_0908.out & 2>&1\n"
    }
   ],
   "source": [
    "log_file = '3m_0908'\n",
    "code_prefix = 'CUDA_VISIBLE_DEVICES=1  nohup python '\n",
    "code_suffix = f'> {log_file}.out & 2>&1'\n",
    "print(code_suffix)"
   ]
  },
  {
   "cell_type": "code",
   "execution_count": null,
   "metadata": {
    "tags": []
   },
   "outputs": [],
   "source": [
    "import time\n",
    "\n",
    "print (time.strftime(\"%Y-%m-%d %H:%M:%S\", time.localtime()))"
   ]
  },
  {
   "cell_type": "code",
   "execution_count": 10,
   "metadata": {
    "tags": []
   },
   "outputs": [
    {
     "output_type": "stream",
     "name": "stdout",
     "text": "\nIn parent process-\nTerminated child's process id: 49637\nSignal number that killed the child process: 0\nIn Child process-\nProcess ID: 49876\nHello ! Geeks\nExiting\n"
    }
   ],
   "source": [
    "\n",
    "# Python program to explain os.wait() method  \n",
    "  \n",
    "# importing os module   \n",
    "import os  \n",
    "  \n",
    "# Create a child process \n",
    "# using os.fork() method  \n",
    "pid = os.fork() \n",
    "  \n",
    "# print('pid is:', pid)  \n",
    "# a Non-zero process id (pid) \n",
    "# indicates the parent process  \n",
    "if pid : \n",
    "      \n",
    "    # Wait for the completion of \n",
    "    # child process using \n",
    "    # os.wait() method     \n",
    "    status = os.wait() \n",
    "    print(\"\\nIn parent process-\") \n",
    "    print(\"Terminated child's process id:\", status[0]) \n",
    "    print(\"Signal number that killed the child process:\", status[1]) \n",
    "  \n",
    "else : \n",
    "    print(\"In Child process-\") \n",
    "    print(\"Process ID:\", os.getpid()) \n",
    "    print(\"Hello ! Geeks\") \n",
    "    print(\"Exiting\") \n",
    "      "
   ]
  },
  {
   "cell_type": "code",
   "execution_count": 2,
   "metadata": {
    "tags": []
   },
   "outputs": [
    {
     "output_type": "stream",
     "name": "stdout",
     "text": "fold/a fold/b fold/c\n['a', 'b', 'c', 'a', 'b', 'c']\n"
    }
   ],
   "source": [
    "list1 = ['a','b','c']\n",
    "str1 = ''.join(list1)\n",
    "folder = 'fold'\n",
    "str2 = f' {folder}/'.join(list1)\n",
    "str3 = f'{folder}/{str2}'\n",
    "print(str3)\n",
    "\n",
    "list2 = ['a','b','c']\n",
    "all_list = list1 + list2\n",
    "print(all_list )"
   ]
  },
  {
   "cell_type": "code",
   "execution_count": 10,
   "metadata": {
    "tags": []
   },
   "outputs": [
    {
     "output_type": "stream",
     "name": "stdout",
     "text": "[  1.   2.  -1. -10.  inf]\n[[  1.   2.]\n [100. 100.]]\n"
    }
   ],
   "source": [
    "import numpy as np \n",
    "a = np.array([1,2,-1,np.nan,np.inf])\n",
    "a[np.isnan(a)]= -10\n",
    "Z = np.array( [ [1, 2 ], [100, np.nan ]] ) \n",
    "zmax = np.nanmax(Z)\n",
    "Z[np.isnan(Z)]= zmax \n",
    "print(a)\n",
    "print(Z)"
   ]
  },
  {
   "cell_type": "code",
   "execution_count": 19,
   "metadata": {
    "tags": []
   },
   "outputs": [
    {
     "output_type": "stream",
     "name": "stdout",
     "text": "[3 3 3 5 6 7 8 8]\n1.0 [[ 1.  2.]\n [11. 11.]]\n"
    }
   ],
   "source": [
    "x=np.array([1,2,3,5,6,7,8,9])\n",
    "np.clip(x,3,8, x)\n",
    "print(x)\n",
    "\n",
    "Z = np.array( [ [1, 2 ], [100, np.nan ]] ) \n",
    "# np.clip(Z,3,8, Z)\n",
    "# print(Z)\n",
    "\n",
    "des_height = 10\n",
    "Z_min = np.nanmin(Z)\n",
    "Z_true_max = np.nanmax(Z)\n",
    "Z[np.isnan(Z)]= Z_true_max\n",
    "np.clip(Z, Z_min, Z_min + des_height , Z )\n",
    "print(Z_min, Z)\n"
   ]
  },
  {
   "cell_type": "code",
   "execution_count": null,
   "metadata": {},
   "outputs": [],
   "source": []
  }
 ],
 "metadata": {
  "kernelspec": {
   "display_name": "Python 3",
   "language": "python",
   "name": "python3"
  },
  "language_info": {
   "codemirror_mode": {
    "name": "ipython",
    "version": 3
   },
   "file_extension": ".py",
   "mimetype": "text/x-python",
   "name": "python",
   "nbconvert_exporter": "python",
   "pygments_lexer": "ipython3",
   "version": "3.7.4-final"
  }
 },
 "nbformat": 4,
 "nbformat_minor": 2
}